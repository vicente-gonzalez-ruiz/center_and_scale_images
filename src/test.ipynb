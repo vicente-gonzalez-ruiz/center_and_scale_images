{
 "cells": [
  {
   "cell_type": "code",
   "execution_count": 1,
   "id": "8515d2f4-45df-43ea-926e-c1a3262e4e5b",
   "metadata": {},
   "outputs": [
    {
     "ename": "SyntaxError",
     "evalue": "invalid syntax. Perhaps you forgot a comma? (__init__.py, line 42)",
     "output_type": "error",
     "traceback": [
      "Traceback \u001b[0;36m(most recent call last)\u001b[0m:\n",
      "\u001b[0m  File \u001b[1;32m/shared/PEs/opencv/lib/python3.10/site-packages/IPython/core/interactiveshell.py:3508\u001b[0m in \u001b[1;35mrun_code\u001b[0m\n    exec(code_obj, self.user_global_ns, self.user_ns)\u001b[0m\n",
      "\u001b[0;36m  Cell \u001b[0;32mIn[1], line 4\u001b[0;36m\n\u001b[0;31m    import center_and_scale_images\u001b[0;36m\n",
      "\u001b[0;36m  File \u001b[0;32m/shared/repos/center_and_scale_images/src/center_and_scale_images/__init__.py:42\u001b[0;36m\u001b[0m\n\u001b[0;31m    resized_image_width, resized_image_height\u001b[0m\n\u001b[0m                         ^\u001b[0m\n\u001b[0;31mSyntaxError\u001b[0m\u001b[0;31m:\u001b[0m invalid syntax. Perhaps you forgot a comma?\n"
     ]
    }
   ],
   "source": [
    "import numpy as np\n",
    "import cv2\n",
    "import matplotlib.pyplot as plt\n",
    "import center_and_scale_images"
   ]
  },
  {
   "cell_type": "code",
   "execution_count": null,
   "id": "733ccf37-8de8-4bdc-8262-ad877660873c",
   "metadata": {},
   "outputs": [],
   "source": [
    "image = cv2.normalize(cv2.imread(\"1678793849794.png\", cv2.IMREAD_UNCHANGED), None, 0, 255, cv2.NORM_MINMAX)"
   ]
  },
  {
   "cell_type": "code",
   "execution_count": null,
   "id": "beedd750-74e3-4b84-ad50-21fa0a1a21f7",
   "metadata": {},
   "outputs": [],
   "source": [
    "#image = image[..., 0]"
   ]
  },
  {
   "cell_type": "code",
   "execution_count": null,
   "id": "c2164682-7a54-43bb-80b5-2d31eefc7727",
   "metadata": {},
   "outputs": [],
   "source": [
    "image.shape"
   ]
  },
  {
   "cell_type": "code",
   "execution_count": null,
   "id": "1284be03-d1b6-4729-82d0-24ed96fb55b6",
   "metadata": {},
   "outputs": [],
   "source": [
    "plt.figure(figsize=(12, 6))\n",
    "plt.subplot(1, 2, 1)\n",
    "plt.imshow(image)\n",
    "plt.title('Original Image')"
   ]
  },
  {
   "cell_type": "code",
   "execution_count": null,
   "id": "9febd08f-9b4e-4e2f-8a49-f31923a1e43d",
   "metadata": {},
   "outputs": [],
   "source": [
    "centered_image, info = center_and_scale_images.center_and_scale_image_in_canvas(image)"
   ]
  },
  {
   "cell_type": "code",
   "execution_count": null,
   "id": "607cd4da-c1e2-4f32-81a3-418448024f5a",
   "metadata": {},
   "outputs": [],
   "source": [
    "plt.figure(figsize=(12, 6))\n",
    "plt.subplot(1, 2, 1)\n",
    "plt.imshow(centered_image)\n",
    "plt.title('Centered Image')"
   ]
  },
  {
   "cell_type": "code",
   "execution_count": null,
   "id": "4da6af7e",
   "metadata": {},
   "outputs": [],
   "source": [
    "print(info)"
   ]
  },
  {
   "cell_type": "code",
   "execution_count": null,
   "id": "e2c551da",
   "metadata": {},
   "outputs": [],
   "source": [
    "new_image, info = center_and_scale_images.extract_WOI(centered_image, WOI_x_coordinate=10, WOI_y_coordinate=7,\n",
    "    WOI_xx_coordinate=10+140, WOI_yy_coordinate=7+105)"
   ]
  },
  {
   "cell_type": "code",
   "execution_count": null,
   "id": "777968cc",
   "metadata": {},
   "outputs": [],
   "source": [
    "plt.figure(figsize=(12, 6))\n",
    "plt.subplot(1, 2, 1)\n",
    "plt.imshow(new_image)\n",
    "plt.title('New Image')"
   ]
  },
  {
   "cell_type": "code",
   "execution_count": null,
   "id": "b723a6e0",
   "metadata": {},
   "outputs": [],
   "source": [
    "print(info)"
   ]
  },
  {
   "cell_type": "code",
   "execution_count": null,
   "id": "9f8acaf3",
   "metadata": {},
   "outputs": [],
   "source": [
    "new_image, info = center_and_scale_images.scale_image(new_image, scale=1/0.875)"
   ]
  },
  {
   "cell_type": "code",
   "execution_count": null,
   "id": "67b20ed4",
   "metadata": {},
   "outputs": [],
   "source": [
    "plt.figure(figsize=(12, 6))\n",
    "plt.subplot(1, 2, 1)\n",
    "plt.imshow(new_image)\n",
    "plt.title('New Image')"
   ]
  },
  {
   "cell_type": "code",
   "execution_count": null,
   "id": "f98253c0",
   "metadata": {},
   "outputs": [],
   "source": [
    "print(info)"
   ]
  },
  {
   "cell_type": "code",
   "execution_count": null,
   "id": "283dbb61",
   "metadata": {},
   "outputs": [],
   "source": []
  }
 ],
 "metadata": {
  "kernelspec": {
   "display_name": "Python 3 (ipykernel)",
   "language": "python",
   "name": "python3"
  },
  "language_info": {
   "codemirror_mode": {
    "name": "ipython",
    "version": 3
   },
   "file_extension": ".py",
   "mimetype": "text/x-python",
   "name": "python",
   "nbconvert_exporter": "python",
   "pygments_lexer": "ipython3",
   "version": "3.10.12"
  }
 },
 "nbformat": 4,
 "nbformat_minor": 5
}
